{
 "cells": [
  {
   "cell_type": "markdown",
   "id": "1619d3ee-03b7-4882-ae3f-705c1d9207ad",
   "metadata": {},
   "source": [
    "# Data Science Tools and Ecosystem"
   ]
  },
  {
   "cell_type": "markdown",
   "id": "6d6f7542-b558-449d-a0b9-a4f9095723ee",
   "metadata": {},
   "source": [
    "### In this notebook, Data Science Tools and Ecosystem are summerized."
   ]
  },
  {
   "cell_type": "markdown",
   "id": "3e3f9473-a346-43dd-a8a6-958412e5880b",
   "metadata": {},
   "source": [
    "#### **Objectives:**\n",
    "* List popular languages for Data Science\n",
    "* List commonly used libraries for Data Science\n",
    "* List open source development environments for Data Science\n"
   ]
  },
  {
   "cell_type": "markdown",
   "id": "ab70d956-a566-4d40-8011-6cab73ee6e53",
   "metadata": {},
   "source": [
    "#### Some of the popular languages that Data Scientists use are:\n",
    "1. Python\n",
    "2. R\n",
    "3. SQL\n",
    "4. Java powered\n",
    "5. Scala"
   ]
  },
  {
   "cell_type": "markdown",
   "id": "01c1861f-91f7-4cee-b808-3658b5c4017d",
   "metadata": {},
   "source": [
    "#### Some of the commonly used libraries used by Data Scientists include:\n",
    "1. ggplot\n",
    "2. pandas\n",
    "3. NumPy\n",
    "4. Matplotlib\n"
   ]
  },
  {
   "cell_type": "markdown",
   "id": "e02d84d1-3676-4c89-af46-f5c95eb10b67",
   "metadata": {},
   "source": [
    "|Data Science Tools|\n",
    "|------------------|\n",
    "|Jupyter Notebook|\n",
    "|JupyterLab|\n",
    "|RStudio|\n",
    "\n"
   ]
  },
  {
   "cell_type": "markdown",
   "id": "27d05bc6-d93a-4e3a-9bc1-5358a9597b49",
   "metadata": {},
   "source": [
    "### Below are a few examples of evaluating arithmetic expressions in Python"
   ]
  },
  {
   "cell_type": "code",
   "execution_count": 2,
   "id": "ab4b7e60-5e56-42ff-81e0-0e8910fa0c59",
   "metadata": {},
   "outputs": [
    {
     "data": {
      "text/plain": [
       "17"
      ]
     },
     "execution_count": 2,
     "metadata": {},
     "output_type": "execute_result"
    }
   ],
   "source": [
    "# This a simple arithmetic expression to mutiply then add integers\n",
    "(3*4)+5"
   ]
  },
  {
   "cell_type": "code",
   "execution_count": 5,
   "id": "1c451bd5-0f9c-40cf-afce-b2cb4cf3da8d",
   "metadata": {},
   "outputs": [
    {
     "name": "stdout",
     "output_type": "stream",
     "text": [
      "200 minutes have 3 hours.\n"
     ]
    }
   ],
   "source": [
    "# This will convert 200 minutes to hours by diving by 60\n",
    "print('200 minutes have {} hours.'.format(200//60))"
   ]
  },
  {
   "cell_type": "markdown",
   "id": "2b4b358f-3e21-4a94-a437-45ff0aba0d40",
   "metadata": {},
   "source": [
    "## Author\n",
    "Dagne"
   ]
  },
  {
   "cell_type": "code",
   "execution_count": null,
   "id": "26d45969-76ed-4654-9f4a-63ac50f36f8e",
   "metadata": {},
   "outputs": [],
   "source": []
  }
 ],
 "metadata": {
  "kernelspec": {
   "display_name": "Python [conda env:base] *",
   "language": "python",
   "name": "conda-base-py"
  },
  "language_info": {
   "codemirror_mode": {
    "name": "ipython",
    "version": 3
   },
   "file_extension": ".py",
   "mimetype": "text/x-python",
   "name": "python",
   "nbconvert_exporter": "python",
   "pygments_lexer": "ipython3",
   "version": "3.13.5"
  }
 },
 "nbformat": 4,
 "nbformat_minor": 5
}
